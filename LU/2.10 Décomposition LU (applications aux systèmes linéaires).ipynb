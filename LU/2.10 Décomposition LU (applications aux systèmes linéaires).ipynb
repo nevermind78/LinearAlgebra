{
 "cells": [
  {
   "cell_type": "markdown",
   "metadata": {},
   "source": [
    "# Concept(s)-clé(s) et théorie\n",
    "\n",
    "## APPLICATION DE LA DÉCOMPOSITION  AUX SYSTÈMES LINÉAIRES \n",
    "Soit un système $Ax=b$ d'équations linéaires aux inconnues $x_1, \\dots, x_n$ et supposons que $A=LU$ où $L$ est triangulaire inférieure et $U$ triangulaire supérieure. Alors on résout le système de la manière suivante :\n",
    "\n",
    "1. Poser $Y = (y_1, y_2, \\dots, y_n)^T$\n",
    "2. Résoudre le système $LY=b$  avec la méthode de substitution en avant\n",
    "3. Résoudre le sytème $Ux=y$ avec la méthode de substitution en arrière"
   ]
  },
  {
   "cell_type": "code",
   "execution_count": 1,
   "metadata": {},
   "outputs": [
    {
     "data": {
      "text/html": [
       "        <script type=\"text/javascript\">\n",
       "        window.PlotlyConfig = {MathJaxConfig: 'local'};\n",
       "        if (window.MathJax) {MathJax.Hub.Config({SVG: {font: \"STIX-Web\"}});}\n",
       "        if (typeof require !== 'undefined') {\n",
       "        require.undef(\"plotly\");\n",
       "        requirejs.config({\n",
       "            paths: {\n",
       "                'plotly': ['https://cdn.plot.ly/plotly-latest.min']\n",
       "            }\n",
       "        });\n",
       "        require(['plotly'], function(Plotly) {\n",
       "            window._Plotly = Plotly;\n",
       "        });\n",
       "        }\n",
       "        </script>\n",
       "        "
      ]
     },
     "metadata": {},
     "output_type": "display_data"
    },
    {
     "data": {
      "text/html": [
       "        <script type=\"text/javascript\">\n",
       "        window.PlotlyConfig = {MathJaxConfig: 'local'};\n",
       "        if (window.MathJax) {MathJax.Hub.Config({SVG: {font: \"STIX-Web\"}});}\n",
       "        if (typeof require !== 'undefined') {\n",
       "        require.undef(\"plotly\");\n",
       "        requirejs.config({\n",
       "            paths: {\n",
       "                'plotly': ['https://cdn.plot.ly/plotly-latest.min']\n",
       "            }\n",
       "        });\n",
       "        require(['plotly'], function(Plotly) {\n",
       "            window._Plotly = Plotly;\n",
       "        });\n",
       "        }\n",
       "        </script>\n",
       "        "
      ]
     },
     "metadata": {},
     "output_type": "display_data"
    }
   ],
   "source": [
    "import Librairie.AL_Fct as al\n",
    "import Corrections.corrections as corrections\n",
    "from ipywidgets import interact_manual\n",
    "import numpy as np\n",
    "import time\n",
    "from scipy.linalg import solve_triangular\n",
    "import matplotlib.pyplot as plt"
   ]
  },
  {
   "cell_type": "markdown",
   "metadata": {},
   "source": [
    "## Exercise 1\n",
    "\n",
    "Considerez le système linéaire $Ax=b$, avec $A$ et $b$ donné par:\n",
    "\n",
    "\\begin{equation}\n",
    "A =\n",
    "\\begin{pmatrix}\n",
    "1 & -1 & 0 \\\\\n",
    "2 & 0 & 1 \\\\\n",
    "1 & 1 & 1 \n",
    "\\end{pmatrix}\n",
    "\\qquad b = \n",
    "\\begin{pmatrix}\n",
    "2 \\\\\n",
    "1 \\\\\n",
    "-1 \n",
    "\\end{pmatrix}\n",
    "\\end{equation}\n",
    "\n",
    "**Sans calculer aucune décomposition LU ni résoudre explicitement le système**, lesquelles des affirmations suivantes sont clairement correctes? [Exécutez la cellule suivante]"
   ]
  },
  {
   "cell_type": "code",
   "execution_count": null,
   "metadata": {},
   "outputs": [],
   "source": [
    "corrections.Ex1Chapitre2_10()"
   ]
  },
  {
   "cell_type": "markdown",
   "metadata": {},
   "source": [
    "## Exercise 2 \n",
    "\n",
    "Considerez le système linéaire $Ax=b$ avec $A \\in \\mathcal{M}_{4 \\times 4}(\\mathbb{R})$ et $b \\in \\mathcal{M}_{4 \\times 1}(\\mathbb{R})$ donné par:\n",
    "\n",
    "\\begin{equation}\n",
    "A = \n",
    "\\begin{pmatrix}\n",
    "1 & 0 & -1 & -2 \\\\\n",
    "0 & -2 & -2 & 1 \\\\\n",
    "1 & 2 & 2 & 1 \\\\\n",
    "0 & 1 & 1 & -1\n",
    "\\end{pmatrix}\n",
    "\\qquad b = \n",
    "\\begin{pmatrix}\n",
    "1 \\\\\n",
    "-2 \\\\\n",
    "1 \\\\\n",
    "0\n",
    "\\end{pmatrix}\n",
    "\\end{equation}\n",
    "\n",
    "Profitant de la décomposition LU, résolvez, si possible, le système linéaire."
   ]
  },
  {
   "cell_type": "code",
   "execution_count": null,
   "metadata": {},
   "outputs": [],
   "source": [
    "A=[[1,0,-1,-2], [0,-2,-2,1], [1,2,2,1], [0,1,1,-1]]\n",
    "b = [[1], [-2], [1], [0]]\n",
    "print('Vous allez échelonner la matrice A')\n",
    "al.printA(A)\n",
    "[i,j,r,alpha]= al.manualEch(A)\n",
    "LList = [np.eye(4)]\n",
    "UList=[np.array(A).astype(float)]\n",
    "print('\\033[1mExecutez la ligne suivante pour effectuer l\\'opération choisie \\033[0m')"
   ]
  },
  {
   "cell_type": "code",
   "execution_count": null,
   "metadata": {},
   "outputs": [],
   "source": [
    "m=al.LU_interactive(i,j,r,alpha, LList, UList)"
   ]
  },
  {
   "cell_type": "markdown",
   "metadata": {},
   "source": [
    "**Insert the values of the temporary variable y and of the system solution x in the following cell**"
   ]
  },
  {
   "cell_type": "code",
   "execution_count": null,
   "metadata": {},
   "outputs": [],
   "source": [
    "y = [[1], [-2], [-2], [-1]]   # temporary variable\n",
    "x = [[-5], [12], [-10], [2]]  # system solution\n",
    "\n",
    "corrections.Ex2Chapitre2_10(LList[-1], UList[-1], b, x, y)"
   ]
  },
  {
   "cell_type": "markdown",
   "metadata": {},
   "source": [
    "## Exercise 3\n",
    "\n",
    "Considerez le système linéaire $Ax=b$ avec $A \\in \\mathcal{M}_{3 \\times 4}(\\mathbb{R})$ et $b \\in \\mathcal{M}_{3 \\times 1}(\\mathbb{R})$ donné par:\n",
    "\n",
    "\\begin{equation}\n",
    "A = \n",
    "\\begin{pmatrix}\n",
    "1 & 2 & 0 & -1 \\\\\n",
    "-2 & -2 & -1 & 0 \\\\\n",
    "0 & 2 & -2 & 1\n",
    "\\end{pmatrix}\n",
    "\\qquad b = \n",
    "\\begin{pmatrix}\n",
    "1 \\\\\n",
    "-1 \\\\\n",
    "2 \n",
    "\\end{pmatrix}\n",
    "\\end{equation}\n",
    "\n",
    "Profitant de la décomposition LU, résolvez, si possible, le système linéaire et marquez ceux des énoncés suivants qui sont corrects"
   ]
  },
  {
   "cell_type": "code",
   "execution_count": null,
   "metadata": {},
   "outputs": [],
   "source": [
    "A = [[1,2,0,-1], [-2,-2,-1,0], [0,2,-2,1]]\n",
    "b = [[1], [-1], [2]]\n",
    "print('Vous allez échelonner la matrice A')\n",
    "al.printA(A)\n",
    "[i,j,r,alpha]= al.manualEch(A)\n",
    "LList = [np.eye(3)]\n",
    "UList=[np.array(A).astype(float)]\n",
    "print('\\033[1mExecutez la ligne suivante pour effectuer l\\'opération choisie \\033[0m')"
   ]
  },
  {
   "cell_type": "code",
   "execution_count": null,
   "metadata": {},
   "outputs": [],
   "source": [
    "m=al.LU_interactive(i,j,r,alpha, LList, UList)"
   ]
  },
  {
   "cell_type": "code",
   "execution_count": 2,
   "metadata": {},
   "outputs": [
    {
     "data": {
      "application/vnd.jupyter.widget-view+json": {
       "model_id": "0214334953bb438a8a6eb92790c5edac",
       "version_major": 2,
       "version_minor": 0
      },
      "text/plain": [
       "interactive(children=(Checkbox(value=False, description='If L is such that all its diagonal elements equal 1, …"
      ]
     },
     "metadata": {},
     "output_type": "display_data"
    }
   ],
   "source": [
    "corrections.Ex3Chapitre2_10()"
   ]
  },
  {
   "cell_type": "markdown",
   "metadata": {},
   "source": [
    "## Exemple 1\n",
    "\n",
    "Il peut être difficile de comprendre pourquoi la décomposition LU est si importante. En effet il semble que ce ne soit rien de plus qu'une manière différente de mettre en œuvre la méthode d'élimination de Gauss, où au lieu d'impliquer le vecteur droit b dans la procédure de réduction, une matrice (L) codant toutes les opérations élémentaires effectuées sur les lignes de la matrice du système est construit.\n",
    "\n",
    "En fin de compte, de toute façon, ce changement apparemment simple est la clé qui rend la décomposition LU (avec toutes ses variantes) très utile dans la pratique réelle; en effet, dans de nombreux cas d'utilisation, il est nécessaire de résoudre plusieurs systèmes linéaires (grands ou énormes), tous présentant la même matrice, mais différents vecteurs du côté droit. Dans de telles situations, il est très utile de s'appuyer sur la décomposition LU; en particulier, la décomposition LU de la matrice est calculée avant la résolution de tous les systèmes linéaires, puis chacun d'eux est rapidement résolu via des schémas de substitution avant / arrière (sur les matrices diagonales supérieure et inférieure L et U). Si la décomposition LU n'est pas utilisée, à chaque étape un système linéaire complet devrait être résolu, conduisant à une augmentation significative en termes de nombre d'opérations et de temps de calcul.\n",
    "\n",
    "Afin de le montrer, nous présentons ci-dessous comment le nombre d'opérations et le temps d'exécution se comparent si plusieurs grands systèmes linéaires (partageant tous la même matrice) sont résolus en s'appuyant ou non sur la décomposition LU.\n",
    "\n",
    "**Exécutez la cellule suivante et évaluez les différences de performances ... cela peut prendre quelques minutes**"
   ]
  },
  {
   "cell_type": "code",
   "execution_count": null,
   "metadata": {},
   "outputs": [],
   "source": [
    "N = 1000  # dimension of the linear systems\n",
    "Nt = 10000 # number of linear systems to be solved\n",
    "A = np.random.rand(N, N);\n",
    "start = time.time()\n",
    "L, U = al.LU_no_pivoting(A)\n",
    "time_lu = 0\n",
    "n_op_lu = 2/3*(N**3 - N)\n",
    "n_op_no_lu = 0\n",
    "\n",
    "# solve without using LU \n",
    "start = time.time()\n",
    "for cnt in range(Nt):\n",
    "    b = np.random.rand(N,1)\n",
    "    x = np.linalg.solve(A, b)\n",
    "    n_op_no_lu += N**3 # --> N^3 operations per cycle, according to Numpy/LAPACK documentation on benchmark cases\n",
    "time_no_lu = time.time() - start\n",
    "\n",
    "# solve using LU\n",
    "start = time.time()\n",
    "for cnt in range(Nt):\n",
    "    b = np.random.rand(N,1)\n",
    "    y = solve_triangular(L, b)\n",
    "    n_op_lu += 2*N**2 - N  # computational cost of forward substitution\n",
    "    x = solve_triangular(U, y)\n",
    "    n_op_lu += 2*N**2 - N  # computational cost of backward substitution\n",
    "time_lu += time.time() - start\n",
    "\n",
    "print(\"Sans décomposition LU: nombre d'opérations:% e, temps d'exécution:% f s\" %(n_op_no_lu, time_no_lu))\n",
    "print(\"Avec décomposition LU: nombre d'opérations:% e, temps d'exécution:% f s %(n_op_lu, time_lu))"
   ]
  },
  {
   "cell_type": "markdown",
   "metadata": {},
   "source": [
    "**Vous pouvez comparer les temps d'exécution et le nombre d'opérations pour différentes tailles de matrice (c'est-à-dire changer le paramètre N) et pour un nombre différent de systèmes lineaires (c'est-à-dire changer le paramètre N_t)**"
   ]
  },
  {
   "cell_type": "markdown",
   "metadata": {},
   "source": [
    "[Passez au notebook 2.11: Décomposition en blocs](2.11%20Décomposition%20en%20blocs.ipynb)"
   ]
  }
 ],
 "metadata": {
  "kernelspec": {
   "display_name": "Python 3",
   "language": "python",
   "name": "python3"
  },
  "language_info": {
   "codemirror_mode": {
    "name": "ipython",
    "version": 3
   },
   "file_extension": ".py",
   "mimetype": "text/x-python",
   "name": "python",
   "nbconvert_exporter": "python",
   "pygments_lexer": "ipython3",
   "version": "3.7.4"
  }
 },
 "nbformat": 4,
 "nbformat_minor": 4
}
