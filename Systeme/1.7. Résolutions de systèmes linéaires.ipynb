{
 "cells": [
  {
   "cell_type": "markdown",
   "metadata": {},
   "source": [
    "# Concept(s)-clé(s) et théorie\n",
    "On considère un système d'équations linéaires aux inconnues $x_1,\\ldots,x_n$\n",
    "\n",
    "$$S=\\left\\{\\begin{array}{ccccccc}\n",
    "a_{11}x_1 &+a_{12}x_2 & + &\\cdots &+a_{1n}x_n &= &b_1 \\\\\n",
    "a_{21}x_1 &+a_{22}x_2 & + &\\cdots &+a_{2n}x_n &= &b_2 \\\\\n",
    "\\vdots    &           &         &           &\\vdots & \\vdots &\\vdots \\\\\n",
    "a_{m1}x_1 &+a_{m2}x_2 & + &\\cdots &+a_{mn}x_n &= &b_m,\n",
    "\\end{array}\\right. $$\n",
    "\n",
    "où $a_{ij},b_i\\in \\mathbb{R}$ pour tout $1\\leq i\\leq m$ et tout $1\\leq j\\leq n.$ \n",
    "\n",
    "Soit $A$ la matrice **augmentée** associée au système\n",
    "$$\n",
    "A=\\left(\\begin{array}{cccc|c}\n",
    "a_{11} & a_{12} & \\cdots & a_{1n} & b_1\\\\\n",
    "a_{21} & a_{22} & \\cdots & a_{2n} & b_2\\\\\n",
    "\\vdots & \\vdots & \\vdots & \\vdots & \\vdots\\\\\n",
    "a_{m1} & a_{m2}& \\cdots & a_{mn} & b_m\n",
    "\\end{array}\\right).$$ \n",
    "\n",
    "On a que les composantes de la colonne $j$ sont les coefficients associés à la variable $x_j$ et que les coefficients de la dernière colonne sont les termes constants ou les termes de droite. On peut écrire la matrice $A$ de la forme suivante\n",
    "$$\n",
    "A=\\left(\\begin{array}{cccc|c} \\overrightarrow{a_1} & \\overrightarrow{a_2} & \\cdots & \\overrightarrow{a_n} & \\overrightarrow{b}\\end{array}\\right)\n",
    "$$ où $\\overrightarrow{a_j}$ est un vecteur de $m$ composantes (celles de la colonnes $j$) donné par\n",
    "$$\n",
    "\\overrightarrow{a_j}=\\begin{pmatrix}\n",
    "a_{1j}\\\\\n",
    "a_{2j}\\\\\n",
    "\\vdots\\\\\n",
    "a_{mj}\n",
    "\\end{pmatrix}\n",
    "$$\n",
    "\n",
    "**Remarque** On considère ici la matrice $A$ comme étant une matrice augmentée et non pas celle des coefficients. La théorie ci-dessous doit être adaptée si vous considérez la matrice $A$ comme étant celle des coefficients!\n",
    "\n",
    "En appliquant l'algorithme de Gauss, on peut échelonner la matrice $A$ et obtenir une matrice échelonnée $B$ (il en existe plusieurs). On pourrait encore continuer l'algorithme et obtenir la forme échelonnée réduite de $A$ (elle est unique!). \n",
    "\n",
    "De même, on peut écrire la matrice $B$ en faisant référence à ses colonnes\n",
    "$$\n",
    "B=\\left(\\begin{array}{cccc|c} \\overrightarrow{b_1} & \\overrightarrow{b_2} & \\cdots & \\overrightarrow{b_n} & \\tilde{b}\\end{array}\\right)\n",
    "$$ où $\\tilde{b}$ est un vecteur de $m$ composantes, obtenu en appliquant à $\\overrightarrow{b}$ la même suite d'opérations élémentaires utilisées pour passer de $A$ à $B$. \n",
    "\n",
    "#### DÉFINITION :\n",
    "Les inconnues du système linéaire $S$ dont la colonne de la matrice $B$ correspondante ne possède pas de pivot sont appelées les **inconnues libres**. Elles peuvent prendre n'importe quelle valeur réelle. Les inconnues dont la colonne de la matrice $B$ correspondante possède un pivot sont appelées les **inconnues principales**.\n",
    "\n",
    "\n",
    "Prenons deux exemples:\n",
    "1. Soit $B$ donnée par\n",
    "$$B=\\begin{pmatrix}\n",
    "\\color{red}\\oplus & * & * & * & * & * & * \\\\\n",
    "0 & \\color{red}\\oplus & * & *& * & * &  *  \\\\\n",
    "0 & 0 & 0 & \\color{red}\\oplus& *& * &*   \\\\\n",
    "0 & 0 & 0 & 0 & 0 &\\color{red}\\oplus & * \\\\\n",
    "0 & 0 & 0 & 0 & 0& 0 & 0 \\end{pmatrix}\n",
    "$$ \n",
    "Le système initial est un système de cinq équations linéaires à six inconnues $x_1,x_2, \\ldots, x_6$. Il y a quatre colonnes pivots (1,2,4 et 6) et quatre pivots. Les inconnues principales sont $x_1, x_2, x_4$ et $x_6$ et les inconnues libres sont $x_3$ et $x_5$.\n",
    "\n",
    "2. Prenons l'exemple donné dans [Notebook du chapitre 1.5-6: Matrices Echelonnées](./1.5-6.%20Matrices%20Echelonnees.ipynb) \n",
    "\n",
    "$$B=\\begin{pmatrix}\n",
    "\\color{red}\\oplus & * & * & * & * & * & * &* & * \\\\\n",
    "0 & 0 &\\color{red}\\oplus & *& * & * &  * & *&* \\\\\n",
    "0 & 0 & 0 & \\color{red}\\oplus& *& * &*  & *& *\\\\\n",
    "0 & 0 & 0 & 0 & 0 &\\color{red}\\oplus & * & * & *\\\\\n",
    "0 & 0 & 0 & 0 & 0 & 0 & 0 & 0 &\\color{red}\\oplus\\\\\n",
    "0 & 0 & 0 & 0 & 0& 0 & 0 &0&0\\\\\n",
    "0 & 0 & 0 & 0 & 0& 0 & 0 &0&0\n",
    "\\end{pmatrix}$$\n",
    "\n",
    "Le système initial est un système de sept équations linéaires à huit inconnues $x_1, \\ldots, x_8$. On constate que la matice $B$ possède cinq colonnes pivots (1,3,4,6 et 9). On aurait envie de dire que les inconnues principales sont $x_1, x_3, x_4$ et $x_6$ et les inconnues libres sont $x_2, x_5,x_7$ et $x_8$. \n",
    "Mais attention la colonne 9 ne correspond pas à une inconnue! La présence du pivot dans cette colonne cause le problème suivant. La cinquième ligne de la matrice $B$ correspond à l'équation\n",
    "\n",
    "$$\n",
    "\\begin{array}{rcccccclccrl}\n",
    "(\\,  &  0   &     & 0    &   & 0      &  &\\cdots &   &0     &\\,|\\,&\\color{red}\\oplus \\quad )\\\\\n",
    "        &0x_1  &+    & 0x_2 &+  & 0 x_3  &+ &\\cdots &+  &0 x_8 & =   & \\color{red}\\oplus \\\\\n",
    "& & & & & & & & & 0&= &\\color{red}\\oplus\n",
    "\\end{array}\n",
    "$$\n",
    "\n",
    "Ce qui n'est possible que si $\\color{red}\\oplus=0$ or cela n'est pas vrai car $\\color{red}\\oplus$ est un pivot dnc non-nul! On obtient un système inconsistant, qui n'admet pas de solutions. On ne parle pas de variables libres ou principales si le système n'admet pas de solutions. \n",
    "\n",
    "\n",
    "\n",
    "#### MÉTHODE DE RÉSOLUTION DE SYSTÈMES LINÉAIRES :\n",
    "Soit $S$ un système linéaire à $n$ inconnues. Afin de trouver l'ensemble des solutions de $S$, on procède comme suit :\n",
    "\n",
    "1. Poser $A$ la matrice **augmentée** du système.\n",
    "2. Utiliser la méthode d'élimination de Gauss afin de transformer $A$ en une matrice échelonnée (réduite) $B$.\n",
    "3. Si la matrice $B$ possède une ligne de la forme $(0\\, 0 \\,\\cdots \\,0 \\,|\\, c )$ avec $c\\neq 0$, alors le système ne possède aucune solution.\n",
    "4. S'il existe $n$ pivots, aucun dans la dernière colonne, alors il existe une unique solution.\n",
    "5. S'il existe moins de $n$ pivots, aucun dans la dernière colonne, alors il existe un nombre infini de solutions.\n",
    "\n"
   ]
  },
  {
   "cell_type": "code",
   "execution_count": 2,
   "metadata": {},
   "outputs": [
    {
     "data": {
      "text/html": [
       "        <script type=\"text/javascript\">\n",
       "        window.PlotlyConfig = {MathJaxConfig: 'local'};\n",
       "        if (window.MathJax) {MathJax.Hub.Config({SVG: {font: \"STIX-Web\"}});}\n",
       "        if (typeof require !== 'undefined') {\n",
       "        require.undef(\"plotly\");\n",
       "        requirejs.config({\n",
       "            paths: {\n",
       "                'plotly': ['https://cdn.plot.ly/plotly-2.8.3.min']\n",
       "            }\n",
       "        });\n",
       "        require(['plotly'], function(Plotly) {\n",
       "            window._Plotly = Plotly;\n",
       "        });\n",
       "        }\n",
       "        </script>\n",
       "        "
      ]
     },
     "metadata": {},
     "output_type": "display_data"
    }
   ],
   "source": [
    "import Librairie.AL_Fct as al\n",
    "import Corrections.corrections as corrections\n",
    "import numpy as np\n",
    "import ipywidgets as widgets\n",
    "\n",
    "from ipywidgets import interact, interactive, fixed, interact_manual, Layout"
   ]
  },
  {
   "cell_type": "markdown",
   "metadata": {},
   "source": [
    "### **EXERCICE 1**\n",
    "\n",
    "Trouver la solution du système en échelonnant la matrice augmentée correspondante\n",
    "\n",
    "$$\n",
    "\\begin{cases}\n",
    "-2x_1 + \\dfrac{2}{3}x_2 -x_3&=0\\\\\n",
    "x_1 -2x_2 + x_3&=2\\\\\n",
    "x_2 -5 x_3&=-3\n",
    "\\end{cases}\n",
    "$$\n"
   ]
  },
  {
   "cell_type": "code",
   "execution_count": 3,
   "metadata": {},
   "outputs": [
    {
     "name": "stdout",
     "output_type": "stream",
     "text": [
      "Vous allez échelonner la matrice\n"
     ]
    },
    {
     "data": {
      "text/latex": [
       "$\\left(\\begin{array}{ccc| cc}  -2 & 0.6667 & -1 & 0 \\\\1 & -2 & 1 & 2 \\\\0 & 1 & -5 & -3  \\end{array}\\right)$"
      ],
      "text/plain": [
       "<IPython.core.display.Latex object>"
      ]
     },
     "metadata": {},
     "output_type": "display_data"
    },
    {
     "name": "stdout",
     "output_type": "stream",
     "text": [
      "Régler les paramètres et évaluer la cellule suivante\n",
      "Répéter cela jusqu'à obtenir une forme échelonnée réduite\n"
     ]
    },
    {
     "data": {
      "application/vnd.jupyter.widget-view+json": {
       "model_id": "2a80fdc2240a4bd9b8b5f42f111f527a",
       "version_major": 2,
       "version_minor": 0
      },
      "text/plain": [
       "RadioButtons(description='Opération:', options=('Tij', 'Di(alpha)', 'Lij(alpha)', 'Revert'), value='Tij')"
      ]
     },
     "metadata": {},
     "output_type": "display_data"
    },
    {
     "data": {
      "application/vnd.jupyter.widget-view+json": {
       "model_id": "7ecf154f5b33498bb2e0ec790651aceb",
       "version_major": 2,
       "version_minor": 0
      },
      "text/plain": [
       "BoundedIntText(value=1, description='Ligne i:', max=3, min=1)"
      ]
     },
     "metadata": {},
     "output_type": "display_data"
    },
    {
     "data": {
      "application/vnd.jupyter.widget-view+json": {
       "model_id": "b891c0b817f04b3d93fc2914adda7ffe",
       "version_major": 2,
       "version_minor": 0
      },
      "text/plain": [
       "BoundedIntText(value=1, description='Ligne j:', max=3, min=1)"
      ]
     },
     "metadata": {},
     "output_type": "display_data"
    },
    {
     "data": {
      "application/vnd.jupyter.widget-view+json": {
       "model_id": "d5d4f7699807432bb56b7ff31058babe",
       "version_major": 2,
       "version_minor": 0
      },
      "text/plain": [
       "Text(value='1', description='Coeff. alpha:')"
      ]
     },
     "metadata": {},
     "output_type": "display_data"
    }
   ],
   "source": [
    "A=[[-2,2/3,-1], [1,-2,1], [0,1,-5]]\n",
    "b=[[0], [2], [-3]]\n",
    "print('Vous allez échelonner la matrice')\n",
    "al.printA(A,b)\n",
    "[i,j,r,alpha]= al.manualEch(A,b)\n",
    "m=np.concatenate((A,b), axis=1)\n",
    "MatriceList=[A]\n",
    "RhSList=[b]"
   ]
  },
  {
   "cell_type": "code",
   "execution_count": 4,
   "metadata": {},
   "outputs": [
    {
     "data": {
      "text/latex": [
       "$\\left(\\begin{array}{ccc| cc}  -2 & 0.6667 & -1 & 0 \\\\1 & -2 & 1 & 2 \\\\0 & 1 & -5 & -3  \\end{array}\\right)\\quad \\sim \\quad\\left(\\begin{array}{ccc| cc}  -2 & 0.6667 & -1 & 0 \\\\1 & -2 & 1 & 2 \\\\0 & 1 & -5 & -3  \\end{array}\\right)$"
      ],
      "text/plain": [
       "<IPython.core.display.Latex object>"
      ]
     },
     "metadata": {},
     "output_type": "display_data"
    }
   ],
   "source": [
    "m=al.echelonnage(i,j,r,alpha,A,m,MatriceList,RhSList)"
   ]
  },
  {
   "cell_type": "markdown",
   "metadata": {},
   "source": [
    "### **EXERCICE 2**\n",
    "\n",
    "Soient les 4 systèmes ci-dessous. À l'aide du méthode d'élimination de Gauss, déterminez celles qui admettent au moins une solution (nommée compatible) et celles qui n'admettent aucune solution (nommée imcompatible).\n",
    "\n",
    "\n",
    "\n",
    "$$\n",
    "a) \\begin{cases}\n",
    "-2x_1 + 8x_2&=0\\\\\n",
    "\\dfrac{1}{2}x_1 -2 &=0\n",
    "\\end{cases}\\hskip1.2em\n",
    "b)\\begin{cases}\n",
    "x_1 + 3 x_2 &=-1\\\\\n",
    "-2x_1 -6 x_2&=-2\n",
    "\\end{cases}\\hskip1.2em\n",
    "c) \\begin{cases}\n",
    "x_1 -2x_3&=3\\\\\n",
    "2x_2 +x_3&=0\\\\\n",
    "-x_1 + x_2 + 2x_3&=2\n",
    "\\end{cases}\\hskip1.2em\n",
    "d) \\begin{cases}\n",
    "x_1 + x_2 + x_3&=1\\\\\n",
    "-x_1 + x_2 + x_3 &=-1\\\\\n",
    "-x_2 -x_3&=0\n",
    "\\end{cases}\n",
    "$$"
   ]
  },
  {
   "cell_type": "code",
   "execution_count": 5,
   "metadata": {},
   "outputs": [],
   "source": [
    "## MODIFIEZ CI-DESSOUS ## \n",
    "\n",
    "#Par défaut, les coefficients sont fixés à 1 \n",
    "\n",
    "A=[[1,1], [1,1], [1,1]]\n",
    "b=[[1],[1],[1]]"
   ]
  },
  {
   "cell_type": "code",
   "execution_count": 6,
   "metadata": {},
   "outputs": [
    {
     "name": "stdout",
     "output_type": "stream",
     "text": [
      "Vous allez échelonner la matrice\n"
     ]
    },
    {
     "data": {
      "text/latex": [
       "$\\left(\\begin{array}{cc| cc}  1 & 1 & 1 \\\\1 & 1 & 1 \\\\1 & 1 & 1  \\end{array}\\right)$"
      ],
      "text/plain": [
       "<IPython.core.display.Latex object>"
      ]
     },
     "metadata": {},
     "output_type": "display_data"
    },
    {
     "name": "stdout",
     "output_type": "stream",
     "text": [
      "Régler les paramètres et évaluer la cellule suivante\n",
      "Répéter cela jusqu'à obtenir une forme échelonnée réduite\n"
     ]
    },
    {
     "data": {
      "application/vnd.jupyter.widget-view+json": {
       "model_id": "257ccdfe39fc422489ef840ab3218a38",
       "version_major": 2,
       "version_minor": 0
      },
      "text/plain": [
       "RadioButtons(description='Opération:', options=('Tij', 'Di(alpha)', 'Lij(alpha)', 'Revert'), value='Tij')"
      ]
     },
     "metadata": {},
     "output_type": "display_data"
    },
    {
     "data": {
      "application/vnd.jupyter.widget-view+json": {
       "model_id": "9af1035d4f844141b60ba1d9bc71891a",
       "version_major": 2,
       "version_minor": 0
      },
      "text/plain": [
       "BoundedIntText(value=1, description='Ligne i:', max=3, min=1)"
      ]
     },
     "metadata": {},
     "output_type": "display_data"
    },
    {
     "data": {
      "application/vnd.jupyter.widget-view+json": {
       "model_id": "5c501467f0c14394a4770484b7b186fc",
       "version_major": 2,
       "version_minor": 0
      },
      "text/plain": [
       "BoundedIntText(value=1, description='Ligne j:', max=3, min=1)"
      ]
     },
     "metadata": {},
     "output_type": "display_data"
    },
    {
     "data": {
      "application/vnd.jupyter.widget-view+json": {
       "model_id": "ab76b5be4da845a292924a15e0649df9",
       "version_major": 2,
       "version_minor": 0
      },
      "text/plain": [
       "Text(value='1', description='Coeff. alpha:')"
      ]
     },
     "metadata": {},
     "output_type": "display_data"
    }
   ],
   "source": [
    "print('Vous allez échelonner la matrice')\n",
    "al.printA(A,b)\n",
    "[i,j,r,alpha]= al.manualEch(A,b)\n",
    "m=np.concatenate((A,b), axis=1)\n",
    "MatriceList=[A]\n",
    "RhSList=[b]"
   ]
  },
  {
   "cell_type": "code",
   "execution_count": null,
   "metadata": {},
   "outputs": [],
   "source": [
    "m=al.echelonnage(i,j,r,alpha,A,m,MatriceList,RhSList)"
   ]
  },
  {
   "cell_type": "code",
   "execution_count": null,
   "metadata": {},
   "outputs": [],
   "source": [
    "corrections.Ex2Chapitre1_7()"
   ]
  },
  {
   "cell_type": "markdown",
   "metadata": {},
   "source": [
    "# Concept(s)-clé(s) et théorie\n",
    "\n",
    "#### DÉFINITION :\n",
    "On appelle *système linéaire homogène*, tout système d'équations linéaires n'ayant que des zéros comme termes constants (tous les termes de droites $b_i=0$). \n",
    "Les systèmes homogène $A\\overrightarrow{x}=\\overrightarrow{0}$, avec $\\overrightarrow{0}$ le vecteur nul à $m$ composantes, admettent toujours au moins une solution: la solution triviale à $n$ composantes (celle qu'avec $n$ zéros). \n",
    "\n",
    "#### Solution homogène et solution particulière\n",
    "Pour les systèmes linéaires compatibles/consistants (qui admettent une solution), chaque solution $\\overrightarrow{w}$ peut être donnée sous forme paramétrique vectorielle comme suit:\n",
    "$$\n",
    "\\overrightarrow{w}=\\overrightarrow{p} +  \\overrightarrow{v}_h\n",
    "$$où $ \\overrightarrow{p} $ est une **solution particulière** du système linéaire, tandis que $\\overrightarrow{v}_h $ est une solution du système linéaire homogène $ A\\overrightarrow{x}=\\overrightarrow{0} $ (appelé **solution homogène**). La solution homogène $\\overrightarrow{v}_h $ dépendra de paramètres (le nombre de paramètres dépendra de la matrice $A$). L'ensemble de solutions de $A\\overrightarrow{x}=\\overrightarrow{b}$ sera l'ensemble des vecteurs $\\overrightarrow{w}$ définis ci-dessous.\n",
    "\n",
    "\n",
    "\n",
    "**Voici les différents ensembles de solutions que l'on peut avoir** \n",
    "\n",
    "Attention: ces cas dépendent aussi du vecteur $\\overrightarrow{b}$! \n",
    "\n",
    "En **deux dimensions**, l'ensemble des solutions peut être *un vecteur* (aussi des fois appelé *un point*) (si la seule solution homogène est $\\overrightarrow{0}$), *une droite* (si l'ensemble des solutions homogènes $\\overrightarrow{v}_h$ est une droite du plan 2D) ou *le plan entier* (si chaque vecteur 2D est une solution du système homogèn (dans ce cas il y aura deux paramètres)).\n",
    "  \n",
    "En **trois dimensions**, l'ensemble des solutions peut être *un vecteur* (un point) (si la seule solution homogène est $\\overrightarrow{0}$), *une droite* (si l'ensemble des solutions homogènes forme une droite dans l'espace 3D), *un plan* (si l'ensemble des solutions homogènes forme un plan de l'espace 3D) ou *tout l'espace 3D* (si chaque vecteur 3D est une solution au système homogène (dans ce cas il y aura trois paramètres))."
   ]
  },
  {
   "cell_type": "markdown",
   "metadata": {},
   "source": [
    "### **EXERCICE 3**\n",
    "\n",
    "\n",
    "Pour les systèmes de l'exercice 2, trouver la nature des solutions (droite, plan, point...). Un graphe s'affichera avec les solutions.\n",
    "\n",
    "$$\n",
    "a) \\begin{cases}\n",
    "-2x_1 + 8x_2&=0\\\\\n",
    "\\dfrac{1}{2}x_1 -2 &=0\n",
    "\\end{cases}\\hskip1.2em\n",
    "b)\\begin{cases}\n",
    "x_1 + 3 x_2 &=-1\\\\\n",
    "-2x_1 -6 x_2&=-2\n",
    "\\end{cases}\\hskip1.2em\n",
    "c) \\begin{cases}\n",
    "x_1 -2x_3&=3\\\\\n",
    "2x_2 +x_3&=0\\\\\n",
    "-x_1 + x_2 + 2x_3&=2\n",
    "\\end{cases}\\hskip1.2em\n",
    "d) \\begin{cases}\n",
    "x_1 + x_2 + x_3&=1\\\\\n",
    "-x_1 + x_2 + x_3 &=-1\\\\\n",
    "-x_2 -x_3&=0\n",
    "\\end{cases}\n",
    "$$"
   ]
  },
  {
   "cell_type": "code",
   "execution_count": 7,
   "metadata": {},
   "outputs": [
    {
     "data": {
      "application/vnd.jupyter.widget-view+json": {
       "model_id": "8b6603d91c3c43a0904f8664020b3b9c",
       "version_major": 2,
       "version_minor": 0
      },
      "text/plain": [
       "interactive(children=(Select(description='Système a):', options=('Point', 'Droite', 'Plan', 'Incompatible'), v…"
      ]
     },
     "metadata": {},
     "output_type": "display_data"
    }
   ],
   "source": [
    "corrections.Ex3Chapitre1_7()"
   ]
  },
  {
   "cell_type": "code",
   "execution_count": null,
   "metadata": {},
   "outputs": [],
   "source": []
  }
 ],
 "metadata": {
  "kernelspec": {
   "display_name": "Python 3",
   "language": "python",
   "name": "python3"
  },
  "language_info": {
   "codemirror_mode": {
    "name": "ipython",
    "version": 3
   },
   "file_extension": ".py",
   "mimetype": "text/x-python",
   "name": "python",
   "nbconvert_exporter": "python",
   "pygments_lexer": "ipython3",
   "version": "3.8.8"
  }
 },
 "nbformat": 4,
 "nbformat_minor": 4
}
